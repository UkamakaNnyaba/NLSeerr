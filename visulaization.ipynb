{
 "cells": [
  {
   "cell_type": "code",
   "execution_count": 7,
   "metadata": {},
   "outputs": [],
   "source": [
    "# load the necessary libraries\n",
    "import logomaker\n",
    "import pandas as pd\n",
    "import numpy as np\n",
    "import joblib  # for loading pre-trained model\n",
    "from sklearn.decomposition import PCA\n",
    "\n",
    "from collections import defaultdict\n",
    "import seaborn as sns\n",
    "import matplotlib.pyplot as plt"
   ]
  },
  {
   "cell_type": "code",
   "execution_count": 2,
   "metadata": {},
   "outputs": [],
   "source": [
    "sequences_df = pd.read_csv(\"/home/vicky/Downloads/NLSeer/NLSeer/finalized_complete_NLS_sequence_table.csv\")"
   ]
  },
  {
   "cell_type": "code",
   "execution_count": 3,
   "metadata": {},
   "outputs": [
    {
     "data": {
      "text/html": [
       "<div>\n",
       "<style scoped>\n",
       "    .dataframe tbody tr th:only-of-type {\n",
       "        vertical-align: middle;\n",
       "    }\n",
       "\n",
       "    .dataframe tbody tr th {\n",
       "        vertical-align: top;\n",
       "    }\n",
       "\n",
       "    .dataframe thead th {\n",
       "        text-align: right;\n",
       "    }\n",
       "</style>\n",
       "<table border=\"1\" class=\"dataframe\">\n",
       "  <thead>\n",
       "    <tr style=\"text-align: right;\">\n",
       "      <th></th>\n",
       "      <th>UniProt ID</th>\n",
       "      <th>Sequence_full</th>\n",
       "      <th>Name</th>\n",
       "      <th>Begin</th>\n",
       "      <th>End</th>\n",
       "      <th>Sequence_nls</th>\n",
       "      <th>Length</th>\n",
       "      <th>Evidence</th>\n",
       "      <th>ECO code</th>\n",
       "    </tr>\n",
       "  </thead>\n",
       "  <tbody>\n",
       "    <tr>\n",
       "      <th>0</th>\n",
       "      <td>Q14738</td>\n",
       "      <td>MPYKLKKEKEPPKVAKCTAKPSSSGKDGGGENTEEAQPQPQPQPQP...</td>\n",
       "      <td>Serine/threonine-protein phosphatase 2A 56 kDa...</td>\n",
       "      <td>548</td>\n",
       "      <td>565</td>\n",
       "      <td>KRTVETEAVQMLKDIKKE</td>\n",
       "      <td>18</td>\n",
       "      <td>Sequence Analysis</td>\n",
       "      <td>ECO:0000255</td>\n",
       "    </tr>\n",
       "    <tr>\n",
       "      <th>1</th>\n",
       "      <td>Q13362</td>\n",
       "      <td>MLTCNKAGSRMVVDAANSNGPFQPVVLLHIRDVPPADQEKLFIQKL...</td>\n",
       "      <td>Serine/threonine-protein phosphatase 2A 56 kDa...</td>\n",
       "      <td>416</td>\n",
       "      <td>422</td>\n",
       "      <td>KLKEKLK</td>\n",
       "      <td>7</td>\n",
       "      <td>Sequence Analysis</td>\n",
       "      <td>ECO:0000255</td>\n",
       "    </tr>\n",
       "    <tr>\n",
       "      <th>2</th>\n",
       "      <td>Q9NRA8</td>\n",
       "      <td>MDRRSMGETESGDAFLDLKKPPASKCPHRYTKEELLDIKELPHSKQ...</td>\n",
       "      <td>Eukaryotic translation initiation factor 4E tr...</td>\n",
       "      <td>195</td>\n",
       "      <td>211</td>\n",
       "      <td>RREFGDSKRVFGERRRN</td>\n",
       "      <td>17</td>\n",
       "      <td>NaN</td>\n",
       "      <td>NaN</td>\n",
       "    </tr>\n",
       "    <tr>\n",
       "      <th>3</th>\n",
       "      <td>P42684</td>\n",
       "      <td>MGQQVGRVGEAPGLQQPQPRGIRGSSAARPSGRRRDPAGRTTETGF...</td>\n",
       "      <td>Abelson tyrosine-protein kinase 2</td>\n",
       "      <td>658</td>\n",
       "      <td>660</td>\n",
       "      <td>KKR</td>\n",
       "      <td>3</td>\n",
       "      <td>Sequence Analysis</td>\n",
       "      <td>ECO:0000255</td>\n",
       "    </tr>\n",
       "    <tr>\n",
       "      <th>4</th>\n",
       "      <td>Q4JIM5</td>\n",
       "      <td>MGQQVGRVGEAPGLQQPQPRGIRGSSAARPSGRRRDPAGRTADAGF...</td>\n",
       "      <td>Abelson tyrosine-protein kinase 2</td>\n",
       "      <td>659</td>\n",
       "      <td>661</td>\n",
       "      <td>KKR</td>\n",
       "      <td>3</td>\n",
       "      <td>Sequence Analysis</td>\n",
       "      <td>ECO:0000255</td>\n",
       "    </tr>\n",
       "  </tbody>\n",
       "</table>\n",
       "</div>"
      ],
      "text/plain": [
       "  UniProt ID                                      Sequence_full  \\\n",
       "0     Q14738  MPYKLKKEKEPPKVAKCTAKPSSSGKDGGGENTEEAQPQPQPQPQP...   \n",
       "1     Q13362  MLTCNKAGSRMVVDAANSNGPFQPVVLLHIRDVPPADQEKLFIQKL...   \n",
       "2     Q9NRA8  MDRRSMGETESGDAFLDLKKPPASKCPHRYTKEELLDIKELPHSKQ...   \n",
       "3     P42684  MGQQVGRVGEAPGLQQPQPRGIRGSSAARPSGRRRDPAGRTTETGF...   \n",
       "4     Q4JIM5  MGQQVGRVGEAPGLQQPQPRGIRGSSAARPSGRRRDPAGRTADAGF...   \n",
       "\n",
       "                                                Name  Begin  End  \\\n",
       "0  Serine/threonine-protein phosphatase 2A 56 kDa...    548  565   \n",
       "1  Serine/threonine-protein phosphatase 2A 56 kDa...    416  422   \n",
       "2  Eukaryotic translation initiation factor 4E tr...    195  211   \n",
       "3                  Abelson tyrosine-protein kinase 2    658  660   \n",
       "4                  Abelson tyrosine-protein kinase 2    659  661   \n",
       "\n",
       "         Sequence_nls  Length           Evidence     ECO code  \n",
       "0  KRTVETEAVQMLKDIKKE      18  Sequence Analysis  ECO:0000255  \n",
       "1             KLKEKLK       7  Sequence Analysis  ECO:0000255  \n",
       "2   RREFGDSKRVFGERRRN      17                NaN          NaN  \n",
       "3                 KKR       3  Sequence Analysis  ECO:0000255  \n",
       "4                 KKR       3  Sequence Analysis  ECO:0000255  "
      ]
     },
     "execution_count": 3,
     "metadata": {},
     "output_type": "execute_result"
    }
   ],
   "source": [
    "sequences_df.head()"
   ]
  },
  {
   "cell_type": "code",
   "execution_count": 4,
   "metadata": {},
   "outputs": [
    {
     "data": {
      "text/plain": [
       "(1363, 9)"
      ]
     },
     "execution_count": 4,
     "metadata": {},
     "output_type": "execute_result"
    }
   ],
   "source": [
    "sequences_df.shape"
   ]
  },
  {
   "cell_type": "code",
   "execution_count": 5,
   "metadata": {},
   "outputs": [
    {
     "name": "stdout",
     "output_type": "stream",
     "text": [
      "Sequence_full    MLTCNKAGSRMVVDAANSNGPFQPVVLLHIRDVPPADQEKLFIQKL...\n",
      "Name: 1, dtype: object\n"
     ]
    }
   ],
   "source": [
    "print(sequences_df[[\"Sequence_full\"]].iloc[1])\n"
   ]
  },
  {
   "cell_type": "code",
   "execution_count": 8,
   "metadata": {},
   "outputs": [],
   "source": [
    "def create_pssm(aligned_sequences):\n",
    "    # Initialize a dictionary to hold counts for each amino acid at each position.\n",
    "    position_counts = defaultdict(lambda: defaultdict(int))\n",
    "    sequence_length = len(aligned_sequences[0])\n",
    "    num_sequences = len(aligned_sequences)\n",
    "\n",
    "    # Count the occurrences of each amino acid at each position.\n",
    "    for seq in aligned_sequences:\n",
    "        for position, amino_acid in enumerate(seq):\n",
    "            position_counts[position][amino_acid] += 1\n",
    "\n",
    "    # Convert counts to frequencies.\n",
    "    pssm = defaultdict(dict)\n",
    "    for position in position_counts:\n",
    "        for amino_acid in position_counts[position]:\n",
    "            pssm[position][amino_acid] = position_counts[position][amino_acid] / num_sequences\n",
    "\n",
    "    # Convert the PSSM to a DataFrame for better visualization.\n",
    "    pssm_df = pd.DataFrame(pssm).fillna(0)  # Fill missing values with 0.\n",
    "    return pssm_df\n",
    "\n",
    "# Replace this by protein sequences\n",
    "aligned_sequences = [\n",
    "    \"MKTWV\",\n",
    "    \"MRTWV\",\n",
    "    \"MKTWA\",\n",
    "    \"MKTWV\"\n",
    "]\n",
    "# Create PSSM\n",
    "pssm_df = create_pssm(aligned_sequences)\n",
    "pssm_df_transposed = pssm_df.transpose()"
   ]
  },
  {
   "cell_type": "code",
   "execution_count": 14,
   "metadata": {},
   "outputs": [
    {
     "name": "stdout",
     "output_type": "stream",
     "text": [
      "     M     K     R    T    W     V     A\n",
      "0  1.0  0.00  0.00  0.0  0.0  0.00  0.00\n",
      "1  0.0  0.75  0.25  0.0  0.0  0.00  0.00\n",
      "2  0.0  0.00  0.00  1.0  0.0  0.00  0.00\n",
      "3  0.0  0.00  0.00  0.0  1.0  0.00  0.00\n",
      "4  0.0  0.00  0.00  0.0  0.0  0.75  0.25\n"
     ]
    }
   ],
   "source": [
    "print(pssm_df_transposed)"
   ]
  },
  {
   "cell_type": "code",
   "execution_count": 9,
   "metadata": {},
   "outputs": [
    {
     "data": {
      "text/plain": [
       "<logomaker.src.Logo.Logo at 0x7f4b2570fdf0>"
      ]
     },
     "execution_count": 9,
     "metadata": {},
     "output_type": "execute_result"
    },
    {
     "data": {
      "image/png": "[encoded data removed]",
      "text/plain": [
       "<Figure size 1000x250 with 1 Axes>"
      ]
     },
     "metadata": {},
     "output_type": "display_data"
    }
   ],
   "source": [
    "logomaker.Logo(pssm_df_transposed, center_values=True)"
   ]
  },
  {
   "cell_type": "code",
   "execution_count": 17,
   "metadata": {},
   "outputs": [
    {
     "data": {
      "text/html": [
       "<div>\n",
       "<style scoped>\n",
       "    .dataframe tbody tr th:only-of-type {\n",
       "        vertical-align: middle;\n",
       "    }\n",
       "\n",
       "    .dataframe tbody tr th {\n",
       "        vertical-align: top;\n",
       "    }\n",
       "\n",
       "    .dataframe thead th {\n",
       "        text-align: right;\n",
       "    }\n",
       "</style>\n",
       "<table border=\"1\" class=\"dataframe\">\n",
       "  <thead>\n",
       "    <tr style=\"text-align: right;\">\n",
       "      <th></th>\n",
       "      <th>A</th>\n",
       "      <th>K</th>\n",
       "      <th>M</th>\n",
       "      <th>R</th>\n",
       "      <th>T</th>\n",
       "      <th>V</th>\n",
       "      <th>W</th>\n",
       "    </tr>\n",
       "    <tr>\n",
       "      <th>pos</th>\n",
       "      <th></th>\n",
       "      <th></th>\n",
       "      <th></th>\n",
       "      <th></th>\n",
       "      <th></th>\n",
       "      <th></th>\n",
       "      <th></th>\n",
       "    </tr>\n",
       "  </thead>\n",
       "  <tbody>\n",
       "    <tr>\n",
       "      <th>0</th>\n",
       "      <td>0</td>\n",
       "      <td>0</td>\n",
       "      <td>4</td>\n",
       "      <td>0</td>\n",
       "      <td>0</td>\n",
       "      <td>0</td>\n",
       "      <td>0</td>\n",
       "    </tr>\n",
       "    <tr>\n",
       "      <th>1</th>\n",
       "      <td>0</td>\n",
       "      <td>3</td>\n",
       "      <td>0</td>\n",
       "      <td>1</td>\n",
       "      <td>0</td>\n",
       "      <td>0</td>\n",
       "      <td>0</td>\n",
       "    </tr>\n",
       "    <tr>\n",
       "      <th>2</th>\n",
       "      <td>0</td>\n",
       "      <td>0</td>\n",
       "      <td>0</td>\n",
       "      <td>0</td>\n",
       "      <td>4</td>\n",
       "      <td>0</td>\n",
       "      <td>0</td>\n",
       "    </tr>\n",
       "    <tr>\n",
       "      <th>3</th>\n",
       "      <td>0</td>\n",
       "      <td>0</td>\n",
       "      <td>0</td>\n",
       "      <td>0</td>\n",
       "      <td>0</td>\n",
       "      <td>0</td>\n",
       "      <td>4</td>\n",
       "    </tr>\n",
       "    <tr>\n",
       "      <th>4</th>\n",
       "      <td>1</td>\n",
       "      <td>0</td>\n",
       "      <td>0</td>\n",
       "      <td>0</td>\n",
       "      <td>0</td>\n",
       "      <td>3</td>\n",
       "      <td>0</td>\n",
       "    </tr>\n",
       "  </tbody>\n",
       "</table>\n",
       "</div>"
      ],
      "text/plain": [
       "     A  K  M  R  T  V  W\n",
       "pos                     \n",
       "0    0  0  4  0  0  0  0\n",
       "1    0  3  0  1  0  0  0\n",
       "2    0  0  0  0  4  0  0\n",
       "3    0  0  0  0  0  0  4\n",
       "4    1  0  0  0  0  3  0"
      ]
     },
     "execution_count": 17,
     "metadata": {},
     "output_type": "execute_result"
    }
   ],
   "source": [
    "logomaker.alignment_to_matrix(aligned_sequences)"
   ]
  },
  {
   "cell_type": "code",
   "execution_count": 16,
   "metadata": {},
   "outputs": [
    {
     "data": {
      "text/plain": [
       "<logomaker.src.Logo.Logo at 0x7f4b202157e0>"
      ]
     },
     "execution_count": 16,
     "metadata": {},
     "output_type": "execute_result"
    },
    {
     "data": {
      "image/png": "[encoded data removed]",
      "text/plain": [
       "<Figure size 1000x250 with 1 Axes>"
      ]
     },
     "metadata": {},
     "output_type": "display_data"
    }
   ],
   "source": [
    "# load ss probability matrix\n",
    "ss_df = logomaker.alignment_to_matrix(aligned_sequences)\n",
    "logomaker.Logo(ss_df)"
   ]
  },
  {
   "cell_type": "code",
   "execution_count": 12,
   "metadata": {},
   "outputs": [
    {
     "data": {
      "text/plain": [
       "<logomaker.src.Logo.Logo at 0x7f4b20301750>"
      ]
     },
     "execution_count": 12,
     "metadata": {},
     "output_type": "execute_result"
    },
    {
     "data": {
      "image/png": "[encoded data removed]",
      "text/plain": [
       "<Figure size 1000x250 with 1 Axes>"
      ]
     },
     "metadata": {},
     "output_type": "display_data"
    }
   ],
   "source": [
    "\n",
    "# Define the sequences\n",
    "sequences = [\n",
    "    \"ATGC\",\n",
    "    \"AGTC\",\n",
    "    \"AATC\",\n",
    "    \"ACGC\"\n",
    "]\n",
    "\n",
    "# Convert sequences to a pandas DataFrame\n",
    "df = logomaker.alignment_to_matrix(sequences)\n",
    "\n",
    "# Create a Logo object\n",
    "logomaker.Logo(df)\n",
    "\n"
   ]
  },
  {
   "cell_type": "code",
   "execution_count": 22,
   "metadata": {},
   "outputs": [
    {
     "data": {
      "text/plain": [
       "4"
      ]
     },
     "execution_count": 22,
     "metadata": {},
     "output_type": "execute_result"
    }
   ],
   "source": [
    "len(sequences)"
   ]
  },
  {
   "cell_type": "code",
   "execution_count": 28,
   "metadata": {},
   "outputs": [],
   "source": [
    "seq_full = sequences_df[[\"Sequence_full\"]]\n",
    "seq_full = seq_full.values.flatten().tolist()"
   ]
  },
  {
   "cell_type": "code",
   "execution_count": 30,
   "metadata": {},
   "outputs": [
    {
     "data": {
      "text/plain": [
       "1363"
      ]
     },
     "execution_count": 30,
     "metadata": {},
     "output_type": "execute_result"
    }
   ],
   "source": [
    "len(seq_full)"
   ]
  },
  {
   "cell_type": "code",
   "execution_count": 31,
   "metadata": {},
   "outputs": [
    {
     "ename": "LogomakerError",
     "evalue": "all elements of sequences must have the same length.",
     "output_type": "error",
     "traceback": [
      "\u001b[0;31m---------------------------------------------------------------------------\u001b[0m",
      "\u001b[0;31mLogomakerError\u001b[0m                            Traceback (most recent call last)",
      "Input \u001b[0;32mIn [31]\u001b[0m, in \u001b[0;36m<cell line: 1>\u001b[0;34m()\u001b[0m\n\u001b[0;32m----> 1\u001b[0m ss_df \u001b[38;5;241m=\u001b[39m \u001b[43mlogomaker\u001b[49m\u001b[38;5;241;43m.\u001b[39;49m\u001b[43malignment_to_matrix\u001b[49m\u001b[43m(\u001b[49m\u001b[43mseq_full\u001b[49m\u001b[43m)\u001b[49m\n\u001b[1;32m      2\u001b[0m logomaker\u001b[38;5;241m.\u001b[39mLogo(ss_df)\n",
      "File \u001b[0;32m~/miniconda3/envs/Ukamaka/lib/python3.10/site-packages/logomaker/src/error_handling.py:134\u001b[0m, in \u001b[0;36mhandle_errors.<locals>.wrapped_func\u001b[0;34m(*args, **kwargs)\u001b[0m\n\u001b[1;32m    130\u001b[0m         mistake \u001b[38;5;241m=\u001b[39m \u001b[38;5;28;01mTrue\u001b[39;00m\n\u001b[1;32m    132\u001b[0m     \u001b[38;5;66;03m# Otherwise, raise error\u001b[39;00m\n\u001b[1;32m    133\u001b[0m     \u001b[38;5;28;01melse\u001b[39;00m:\n\u001b[0;32m--> 134\u001b[0m         \u001b[38;5;28;01mraise\u001b[39;00m e\n\u001b[1;32m    136\u001b[0m \u001b[38;5;66;03m# If not in debug mode, and no error was detected above,\u001b[39;00m\n\u001b[1;32m    137\u001b[0m \u001b[38;5;28;01mif\u001b[39;00m should_fail \u001b[38;5;129;01mis\u001b[39;00m \u001b[38;5;28;01mNone\u001b[39;00m:\n\u001b[1;32m    138\u001b[0m \n\u001b[1;32m    139\u001b[0m     \u001b[38;5;66;03m# Just return result\u001b[39;00m\n",
      "File \u001b[0;32m~/miniconda3/envs/Ukamaka/lib/python3.10/site-packages/logomaker/src/error_handling.py:102\u001b[0m, in \u001b[0;36mhandle_errors.<locals>.wrapped_func\u001b[0;34m(*args, **kwargs)\u001b[0m\n\u001b[1;32m     98\u001b[0m mistake \u001b[38;5;241m=\u001b[39m \u001b[38;5;28;01mNone\u001b[39;00m\n\u001b[1;32m    100\u001b[0m \u001b[38;5;28;01mtry\u001b[39;00m:\n\u001b[1;32m    101\u001b[0m     \u001b[38;5;66;03m# Execute function\u001b[39;00m\n\u001b[0;32m--> 102\u001b[0m     result \u001b[38;5;241m=\u001b[39m \u001b[43mfunc\u001b[49m\u001b[43m(\u001b[49m\u001b[38;5;241;43m*\u001b[39;49m\u001b[43margs\u001b[49m\u001b[43m,\u001b[49m\u001b[43m \u001b[49m\u001b[38;5;241;43m*\u001b[39;49m\u001b[38;5;241;43m*\u001b[39;49m\u001b[43mkwargs\u001b[49m\u001b[43m)\u001b[49m\n\u001b[1;32m    104\u001b[0m     \u001b[38;5;66;03m# If running functional test and expect to fail\u001b[39;00m\n\u001b[1;32m    105\u001b[0m     \u001b[38;5;28;01mif\u001b[39;00m should_fail \u001b[38;5;129;01mis\u001b[39;00m \u001b[38;5;28;01mTrue\u001b[39;00m:\n",
      "File \u001b[0;32m~/miniconda3/envs/Ukamaka/lib/python3.10/site-packages/logomaker/src/matrix.py:539\u001b[0m, in \u001b[0;36malignment_to_matrix\u001b[0;34m(sequences, counts, to_type, background, characters_to_ignore, center_weights, pseudocount)\u001b[0m\n\u001b[1;32m    536\u001b[0m L \u001b[38;5;241m=\u001b[39m \u001b[38;5;28mlen\u001b[39m(sequences[\u001b[38;5;241m0\u001b[39m])\n\u001b[1;32m    538\u001b[0m \u001b[38;5;66;03m# Make sure all sequences are the same length\u001b[39;00m\n\u001b[0;32m--> 539\u001b[0m \u001b[43mcheck\u001b[49m\u001b[43m(\u001b[49m\u001b[38;5;28;43mall\u001b[39;49m\u001b[43m(\u001b[49m\u001b[43m[\u001b[49m\u001b[38;5;28;43mlen\u001b[39;49m\u001b[43m(\u001b[49m\u001b[43ms\u001b[49m\u001b[43m)\u001b[49m\u001b[43m \u001b[49m\u001b[38;5;241;43m==\u001b[39;49m\u001b[43m \u001b[49m\u001b[43mL\u001b[49m\u001b[43m \u001b[49m\u001b[38;5;28;43;01mfor\u001b[39;49;00m\u001b[43m \u001b[49m\u001b[43ms\u001b[49m\u001b[43m \u001b[49m\u001b[38;5;129;43;01min\u001b[39;49;00m\u001b[43m \u001b[49m\u001b[43msequences\u001b[49m\u001b[43m]\u001b[49m\u001b[43m)\u001b[49m\u001b[43m,\u001b[49m\n\u001b[1;32m    540\u001b[0m \u001b[43m      \u001b[49m\u001b[38;5;124;43m'\u001b[39;49m\u001b[38;5;124;43mall elements of sequences must have the same length.\u001b[39;49m\u001b[38;5;124;43m'\u001b[39;49m\u001b[43m)\u001b[49m\n\u001b[1;32m    542\u001b[0m \u001b[38;5;66;03m# validate counts as list-like\u001b[39;00m\n\u001b[1;32m    543\u001b[0m check(\u001b[38;5;28misinstance\u001b[39m(counts, (\u001b[38;5;28mlist\u001b[39m, \u001b[38;5;28mtuple\u001b[39m, np\u001b[38;5;241m.\u001b[39mndarray, pd\u001b[38;5;241m.\u001b[39mSeries)) \u001b[38;5;129;01mor\u001b[39;00m\n\u001b[1;32m    544\u001b[0m       (counts \u001b[38;5;129;01mis\u001b[39;00m \u001b[38;5;28;01mNone\u001b[39;00m),\n\u001b[1;32m    545\u001b[0m       \u001b[38;5;124m'\u001b[39m\u001b[38;5;124mcounts must be None or a list, tuple, np.ndarray, or pd.Series.\u001b[39m\u001b[38;5;124m'\u001b[39m)\n",
      "File \u001b[0;32m~/miniconda3/envs/Ukamaka/lib/python3.10/site-packages/logomaker/src/error_handling.py:56\u001b[0m, in \u001b[0;36mcheck\u001b[0;34m(condition, message)\u001b[0m\n\u001b[1;32m     36\u001b[0m \u001b[38;5;124;03m\"\"\"\u001b[39;00m\n\u001b[1;32m     37\u001b[0m \u001b[38;5;124;03mChecks a condition; raises a LogomakerError with message if condition\u001b[39;00m\n\u001b[1;32m     38\u001b[0m \u001b[38;5;124;03mevaluates to False\u001b[39;00m\n\u001b[0;32m   (...)\u001b[0m\n\u001b[1;32m     52\u001b[0m \u001b[38;5;124;03mNone\u001b[39;00m\n\u001b[1;32m     53\u001b[0m \u001b[38;5;124;03m\"\"\"\u001b[39;00m\n\u001b[1;32m     55\u001b[0m \u001b[38;5;28;01mif\u001b[39;00m \u001b[38;5;129;01mnot\u001b[39;00m condition:\n\u001b[0;32m---> 56\u001b[0m     \u001b[38;5;28;01mraise\u001b[39;00m LogomakerError(message)\n",
      "\u001b[0;31mLogomakerError\u001b[0m: all elements of sequences must have the same length."
     ]
    }
   ],
   "source": [
    "ss_df = logomaker.alignment_to_matrix(seq_full)\n",
    "logomaker.Logo(ss_df)"
   ]
  },
  {
   "cell_type": "code",
   "execution_count": null,
   "metadata": {},
   "outputs": [],
   "source": [
    "\n",
    "# # Define functions to process protein sequence\n",
    "# def encode_sequence(sequence):\n",
    "#   # Replace this with your sequence encoding logic (e.g., one-hot encoding)\n",
    "#   # This example uses a simple dictionary for demonstration\n",
    "#   aa_map = {\"A\": 0, \"C\": 1, \"D\": 2, \"...\": 25}  # Add entries for all amino acids\n",
    "#   encoded_seq = [aa_map.get(aa, -1) for aa in sequence]\n",
    "#   return encoded_seq\n",
    "\n",
    "# def predict_nls_probability(model, protein_sequence):\n",
    "#   # Encode the protein sequence\n",
    "#   encoded_seq = encode_sequence(protein_sequence)\n",
    "#   # Reshape the data for model prediction (might be specific to your model)\n",
    "#   encoded_seq = np.reshape(encoded_seq, (1, -1))  # Reshape to a single sample\n",
    "#   # Predict probability using the loaded model\n",
    "#   probability = model.predict_proba(encoded_seq)[0][1]\n",
    "#   return probability\n",
    "\n",
    "# # Load the pre-trained NLS prediction model (replace with your model filename)\n",
    "# model_filename = \"nls_prediction_model.sav\"\n",
    "# model = joblib.load(model_filename)\n",
    "\n",
    "# # Example usage\n",
    "# protein_sequence = \"MEEEEEKRKV\"  # Replace with your actual protein sequence\n",
    "# probability = predict_nls_probability(model, protein_sequence)\n",
    "\n",
    "# print(f\"Probability of NLS for protein: {probability}\")\n"
   ]
  },
  {
   "cell_type": "code",
   "execution_count": 33,
   "metadata": {},
   "outputs": [
    {
     "name": "stdout",
     "output_type": "stream",
     "text": [
      "[[ 8.02652163e-18  8.16496581e-01]\n",
      " [-1.30751356e-16 -2.38675765e-16]\n",
      " [ 7.07106781e-01 -4.08248290e-01]\n",
      " [-7.07106781e-01 -4.08248290e-01]\n",
      " [ 1.45924103e-16 -2.85513299e-16]]\n"
     ]
    }
   ],
   "source": [
    "# perform PCA \n",
    "n_comp = 2\n",
    "pca = PCA(n_components=n_comp)\n",
    "\n",
    "# Fit the PCA model to the data matrix\n",
    "pca.fit(pssm_df_transposed)\n",
    "\n",
    "# Get the transformed data (component scores)\n",
    "component_scores = pca.transform(pssm_df_transposed)\n",
    "\n",
    "# Print the component scores\n",
    "print(component_scores)"
   ]
  },
  {
   "cell_type": "code",
   "execution_count": 34,
   "metadata": {},
   "outputs": [
    {
     "data": {
      "text/plain": [
       "array([0.29411765, 0.29411765])"
      ]
     },
     "execution_count": 34,
     "metadata": {},
     "output_type": "execute_result"
    }
   ],
   "source": [
    "pca.explained_variance_ratio_"
   ]
  }
 ],
 "metadata": {
  "kernelspec": {
   "display_name": "Ukamaka",
   "language": "python",
   "name": "python3"
  },
  "language_info": {
   "codemirror_mode": {
    "name": "ipython",
    "version": 3
   },
   "file_extension": ".py",
   "mimetype": "text/x-python",
   "name": "python",
   "nbconvert_exporter": "python",
   "pygments_lexer": "ipython3",
   "version": "3.10.6"
  }
 },
 "nbformat": 4,
 "nbformat_minor": 2
}
