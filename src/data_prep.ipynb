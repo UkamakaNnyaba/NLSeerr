{
 "cells": [
  {
   "cell_type": "markdown",
   "metadata": {},
   "source": [
    "# Data preparation and processing notebook\n",
    "\n",
    "Dataset descriptions and references: \n",
    "\n",
    "1) Yamagishi R, Kaneko H. Data from comprehensive analysis of nuclear localization signals. Data Brief. 2015 Dec 12;6:200-3. doi: 10.1016/j.dib.2015.11.064. PMID: 26862559; PMCID: PMC4707185.\n",
    "\n",
    "    UniProt IDs were extracted from a spreadsheet containing documented NLS sequences and the proteins in which they are located inside the supplementary materials of the paper cited above. These UniProt IDs were entered in the ID-mapping query on the UniProt website, which then generated a FASTA file containing all the full sequences of the proteins. We then used the SeqIO method inside the Biopython package to extract the sequences from the FASTA file and add them to a CSV. This CSV containing the full sequences was then merged with Pandas such that the proteins, organized by UniProt ID, contained both the NLS sequences and the full sequence.\n",
    "\n",
    "2)  https://services.healthtech.dtu.dk/services/DeepLoc-2.0/#\n",
    "\n",
    "\n"
   ]
  },
  {
   "cell_type": "code",
   "execution_count": null,
   "metadata": {},
   "outputs": [],
   "source": [
    "import pandas as pd\n",
    "import numpy as np\n",
    "import matplotlib.pyplot as plt\n",
    "import re\n",
    "from data_prep import *"
   ]
  },
  {
   "cell_type": "code",
   "execution_count": null,
   "metadata": {},
   "outputs": [],
   "source": [
    "df = pd.read_csv(\"../csv_files/SortingSignalsSwissprot.csv\")\n",
    "df[\"Types\"].unique()"
   ]
  },
  {
   "cell_type": "code",
   "execution_count": null,
   "metadata": {},
   "outputs": [],
   "source": [
    "# Drop rows with specific values in the 'Types' column\n",
    "values_to_drop = ['NLS_NES', 'TM_MT', np.nan, 'SP_TM_PTS', 'SP_PTS', 'SP_GPI', 'SP_TM']\n",
    "df = df[~df['Types'].isin(values_to_drop)]"
   ]
  },
  {
   "cell_type": "code",
   "execution_count": null,
   "metadata": {},
   "outputs": [],
   "source": [
    "df = df.drop(columns=\"Kingdom\")"
   ]
  },
  {
   "cell_type": "code",
   "execution_count": null,
   "metadata": {},
   "outputs": [],
   "source": [
    "print(df[\"Types\"].unique())\n",
    "\n",
    "type_counts = df['Types'].value_counts()\n",
    "print(type_counts)"
   ]
  },
  {
   "cell_type": "code",
   "execution_count": null,
   "metadata": {},
   "outputs": [],
   "source": [
    "#renaming columns before combining two dataframes \n",
    "\n",
    "df2 = pd.read_csv(\"../csv_files/finalized_complete_NLS_sequence_table.csv\")\n",
    "\n",
    "df2 = df2.rename(columns={'Sequence_full': \"Sequence\"})\n",
    "\n",
    "df2[\"Types\"] = \"NLS\"\n",
    "\n",
    "df2 = df2.rename(columns={\"UniProt ID\": \"ACC\"})\n",
    "\n",
    "df2['AnnotEncoded'] = df2.apply(generate_annotation, axis=1)\n",
    "\n",
    "df2 = df2.drop(columns=['Name', 'Begin','End','Length', 'Evidence', 'Sequence_nls', 'ECO code'])"
   ]
  },
  {
   "cell_type": "code",
   "execution_count": null,
   "metadata": {},
   "outputs": [],
   "source": [
    "#Combining the two data frames\n",
    "stacked_df = pd.concat([df, df2], ignore_index=True)"
   ]
  },
  {
   "cell_type": "code",
   "execution_count": null,
   "metadata": {},
   "outputs": [],
   "source": [
    "# Function to remove rows containing \"B\", \"U\", or \"X\" in the sequence\n",
    "cleaned_stacked_df = remove_bux(stacked_df)"
   ]
  },
  {
   "cell_type": "code",
   "execution_count": null,
   "metadata": {},
   "outputs": [],
   "source": [
    "#Adding the length column which shows lengths of the full protein sequences\n",
    "cleaned_stacked_df[\"Length\"] = cleaned_stacked_df[\"Sequence\"].apply(lambda x: len(x))"
   ]
  },
  {
   "cell_type": "code",
   "execution_count": null,
   "metadata": {},
   "outputs": [],
   "source": [
    "# removing duplicates \n",
    "df_cleaned = cleaned_stacked_df.drop_duplicates(keep=False)"
   ]
  },
  {
   "cell_type": "code",
   "execution_count": null,
   "metadata": {},
   "outputs": [],
   "source": [
    "#cleaned_modified_df2.to_csv(\"cleaned_modified_df2.csv\",index=False)\n",
    "\n",
    "cleaned_modified_df2.to_csv(\"finalized_df_cleaned.csv\",index=False)"
   ]
  }
 ],
 "metadata": {
  "kernelspec": {
   "display_name": ".venv",
   "language": "python",
   "name": "python3"
  },
  "language_info": {
   "codemirror_mode": {
    "name": "ipython",
    "version": 3
   },
   "file_extension": ".py",
   "mimetype": "text/x-python",
   "name": "python",
   "nbconvert_exporter": "python",
   "pygments_lexer": "ipython3",
   "version": "3.12.1"
  }
 },
 "nbformat": 4,
 "nbformat_minor": 2
}
