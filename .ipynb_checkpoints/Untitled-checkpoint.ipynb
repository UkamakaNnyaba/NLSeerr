{
 "cells": [
  {
   "cell_type": "code",
   "execution_count": 3,
   "id": "16a0a42d-f772-46aa-9865-c24d280557f0",
   "metadata": {},
   "outputs": [],
   "source": [
    "# Query notebook for starting search through BLAST database\n",
    "# First, we need to parse out the arguments, but let's import the necessary packages\n",
    "import argparse\n",
    "import subprocess"
   ]
  },
  {
   "cell_type": "code",
   "execution_count": null,
   "id": "146d15fe-d329-4adc-b653-8db18305ab16",
   "metadata": {},
   "outputs": [],
   "source": [
    "def main():\n",
    "    parser = argparse.ArgumentParser()\n",
    "    "
   ]
  }
 ],
 "metadata": {
  "kernelspec": {
   "display_name": "Python 3 (ipykernel)",
   "language": "python",
   "name": "python3"
  },
  "language_info": {
   "codemirror_mode": {
    "name": "ipython",
    "version": 3
   },
   "file_extension": ".py",
   "mimetype": "text/x-python",
   "name": "python",
   "nbconvert_exporter": "python",
   "pygments_lexer": "ipython3",
   "version": "3.10.13"
  }
 },
 "nbformat": 4,
 "nbformat_minor": 5
}
