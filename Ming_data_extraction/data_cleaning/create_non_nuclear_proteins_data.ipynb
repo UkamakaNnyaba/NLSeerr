{
 "cells": [
  {
   "cell_type": "code",
   "execution_count": 1,
   "metadata": {},
   "outputs": [],
   "source": [
    "import pandas as pd"
   ]
  },
  {
   "cell_type": "code",
   "execution_count": 2,
   "metadata": {},
   "outputs": [
    {
     "name": "stdout",
     "output_type": "stream",
     "text": [
      "        Entry  Length                                           Sequence\n",
      "0  A0A061I403     455  MPMASVIAVAEPKWISVWGRFLWLTLLSMALGSLLALLLPLGAVEE...\n",
      "1  A0A087WPF7    1261  MDGPTRGHGLRKKRRSRSQRDRERRSRAGLGTGAAGGIGAGRTRAP...\n",
      "2  A0A087X1C5     515  MGLEALVPLAMIVAIFLLLVDLMHRHQRWAARYPPGPLPLPGLGNL...\n",
      "3  A0A088MLT8     559  MRLEELKRLQNPLEQVDDGKYLLENHQLAMDVENNIENYPLSLQPL...\n",
      "4  A0A096MJN4     459  MIKHFLEDNSDDAELSKFVKDFPGSEPCHPTESKTRVARPQILEPR...\n"
     ]
    }
   ],
   "source": [
    "df = pd.read_csv('../data/data_all_proteins.tsv',delimiter='\\t')\n",
    "print(df.head())"
   ]
  },
  {
   "cell_type": "code",
   "execution_count": 3,
   "metadata": {},
   "outputs": [
    {
     "name": "stdout",
     "output_type": "stream",
     "text": [
      "           ID  Length                                           Sequence\n",
      "0  A0A061I403     455  MPMASVIAVAEPKWISVWGRFLWLTLLSMALGSLLALLLPLGAVEE...\n",
      "1  A0A087WPF7    1261  MDGPTRGHGLRKKRRSRSQRDRERRSRAGLGTGAAGGIGAGRTRAP...\n",
      "2  A0A087X1C5     515  MGLEALVPLAMIVAIFLLLVDLMHRHQRWAARYPPGPLPLPGLGNL...\n",
      "3  A0A088MLT8     559  MRLEELKRLQNPLEQVDDGKYLLENHQLAMDVENNIENYPLSLQPL...\n",
      "4  A0A096MJN4     459  MIKHFLEDNSDDAELSKFVKDFPGSEPCHPTESKTRVARPQILEPR...\n"
     ]
    }
   ],
   "source": [
    "# Rename the column name from Entry to ID\n",
    "df = df.rename(columns={'Entry':'ID'})\n",
    "print(df.head())"
   ]
  },
  {
   "cell_type": "code",
   "execution_count": 4,
   "metadata": {},
   "outputs": [
    {
     "name": "stdout",
     "output_type": "stream",
     "text": [
      "       ID  Begin  End          Sequence_x  Length  \\\n",
      "0  Q14738    548  565  KRTVETEAVQMLKDIKKE      18   \n",
      "1  Q13362    416  422             KLKEKLK       7   \n",
      "2  Q9NRA8    195  211   RREFGDSKRVFGERRRN      17   \n",
      "3  P42684    658  660                 KKR       3   \n",
      "4  Q4JIM5    659  661                 KKR       3   \n",
      "\n",
      "                                          Sequence_y  \n",
      "0  MPYKLKKEKEPPKVAKCTAKPSSSGKDGGGENTEEAQPQPQPQPQP...  \n",
      "1  MLTCNKAGSRMVVDAANSNGPFQPVVLLHIRDVPPADQEKLFIQKL...  \n",
      "2  MDRRSMGETESGDAFLDLKKPPASKCPHRYTKEELLDIKELPHSKQ...  \n",
      "3  MGQQVGRVGEAPGLQQPQPRGIRGSSAARPSGRRRDPAGRTTETGF...  \n",
      "4  MGQQVGRVGEAPGLQQPQPRGIRGSSAARPSGRRRDPAGRTADAGF...  \n"
     ]
    }
   ],
   "source": [
    "# Load the data of nuclear proteins\n",
    "df1 = pd.read_csv('../data/data_NLS.csv')\n",
    "print(df1.head())"
   ]
  },
  {
   "cell_type": "code",
   "execution_count": 5,
   "metadata": {},
   "outputs": [
    {
     "name": "stdout",
     "output_type": "stream",
     "text": [
      "The total number of proteins are 67863,\n",
      " and 66679 of them do not contain NLSs.\n"
     ]
    }
   ],
   "source": [
    "# Exclude the nuclear proteins from the dataset of all protein sequences\n",
    "cleaned_df = df[~df['ID'].isin(df1['ID'])]\n",
    "print(f\"The total number of proteins are {len(df)},\\n and {len(cleaned_df)} of them do not contain NLSs.\")"
   ]
  },
  {
   "cell_type": "code",
   "execution_count": 6,
   "metadata": {},
   "outputs": [],
   "source": [
    "# Save the non nuclear protein data set that is used for binary classification later\n",
    "cleaned_df.to_csv('../data/data_non_nuclear_proteins.csv', index=False)"
   ]
  }
 ],
 "metadata": {
  "kernelspec": {
   "display_name": "base",
   "language": "python",
   "name": "python3"
  },
  "language_info": {
   "codemirror_mode": {
    "name": "ipython",
    "version": 3
   },
   "file_extension": ".py",
   "mimetype": "text/x-python",
   "name": "python",
   "nbconvert_exporter": "python",
   "pygments_lexer": "ipython3",
   "version": "3.11.5"
  }
 },
 "nbformat": 4,
 "nbformat_minor": 2
}
