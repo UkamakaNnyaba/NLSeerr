{
 "cells": [
  {
   "cell_type": "code",
   "execution_count": 1,
   "metadata": {},
   "outputs": [],
   "source": [
    "import pandas as pd"
   ]
  },
  {
   "cell_type": "code",
   "execution_count": 2,
   "metadata": {},
   "outputs": [],
   "source": [
    "df = pd.read_csv('../yamagishi_kaneko_NLS_table.csv')"
   ]
  },
  {
   "cell_type": "code",
   "execution_count": 3,
   "metadata": {},
   "outputs": [
    {
     "data": {
      "text/html": [
       "<div>\n",
       "<style scoped>\n",
       "    .dataframe tbody tr th:only-of-type {\n",
       "        vertical-align: middle;\n",
       "    }\n",
       "\n",
       "    .dataframe tbody tr th {\n",
       "        vertical-align: top;\n",
       "    }\n",
       "\n",
       "    .dataframe thead th {\n",
       "        text-align: right;\n",
       "    }\n",
       "</style>\n",
       "<table border=\"1\" class=\"dataframe\">\n",
       "  <thead>\n",
       "    <tr style=\"text-align: right;\">\n",
       "      <th></th>\n",
       "      <th>Unnamed: 0</th>\n",
       "      <th>Unnamed: 1</th>\n",
       "      <th>Unnamed: 2</th>\n",
       "      <th>Unnamed: 3</th>\n",
       "      <th>Unnamed: 4</th>\n",
       "      <th>Unnamed: 5</th>\n",
       "      <th>Unnamed: 6</th>\n",
       "      <th>Unnamed: 7</th>\n",
       "      <th>Unnamed: 8</th>\n",
       "      <th>Unnamed: 9</th>\n",
       "    </tr>\n",
       "  </thead>\n",
       "  <tbody>\n",
       "    <tr>\n",
       "      <th>0</th>\n",
       "      <td>Table S1. Information on NLSs identified in Un...</td>\n",
       "      <td>NaN</td>\n",
       "      <td>NaN</td>\n",
       "      <td>NaN</td>\n",
       "      <td>NaN</td>\n",
       "      <td>NaN</td>\n",
       "      <td>NaN</td>\n",
       "      <td>NaN</td>\n",
       "      <td>NaN</td>\n",
       "      <td>NaN</td>\n",
       "    </tr>\n",
       "    <tr>\n",
       "      <th>1</th>\n",
       "      <td>NaN</td>\n",
       "      <td>NaN</td>\n",
       "      <td>NaN</td>\n",
       "      <td>NaN</td>\n",
       "      <td>NaN</td>\n",
       "      <td>NaN</td>\n",
       "      <td>NaN</td>\n",
       "      <td>NaN</td>\n",
       "      <td>NaN</td>\n",
       "      <td>NaN</td>\n",
       "    </tr>\n",
       "    <tr>\n",
       "      <th>2</th>\n",
       "      <td>No.</td>\n",
       "      <td>Protein</td>\n",
       "      <td>NaN</td>\n",
       "      <td>NLS</td>\n",
       "      <td>NaN</td>\n",
       "      <td>NaN</td>\n",
       "      <td>NaN</td>\n",
       "      <td>NaN</td>\n",
       "      <td>NaN</td>\n",
       "      <td>NaN</td>\n",
       "    </tr>\n",
       "    <tr>\n",
       "      <th>3</th>\n",
       "      <td>NaN</td>\n",
       "      <td>UniProt ID</td>\n",
       "      <td>Name</td>\n",
       "      <td>Begin</td>\n",
       "      <td>End</td>\n",
       "      <td>Sequence</td>\n",
       "      <td>Length</td>\n",
       "      <td>Evidence</td>\n",
       "      <td>ECO code</td>\n",
       "      <td>NaN</td>\n",
       "    </tr>\n",
       "    <tr>\n",
       "      <th>4</th>\n",
       "      <td>1</td>\n",
       "      <td>Q14738</td>\n",
       "      <td>Serine/threonine-protein phosphatase 2A 56 kDa...</td>\n",
       "      <td>548</td>\n",
       "      <td>565</td>\n",
       "      <td>KRTVETEAVQMLKDIKKE</td>\n",
       "      <td>18</td>\n",
       "      <td>Sequence Analysis</td>\n",
       "      <td>ECO:0000255</td>\n",
       "      <td>NaN</td>\n",
       "    </tr>\n",
       "  </tbody>\n",
       "</table>\n",
       "</div>"
      ],
      "text/plain": [
       "                                          Unnamed: 0  Unnamed: 1  \\\n",
       "0  Table S1. Information on NLSs identified in Un...         NaN   \n",
       "1                                                NaN         NaN   \n",
       "2                                                No.     Protein   \n",
       "3                                                NaN  UniProt ID   \n",
       "4                                                  1      Q14738   \n",
       "\n",
       "                                          Unnamed: 2 Unnamed: 3 Unnamed: 4  \\\n",
       "0                                                NaN        NaN        NaN   \n",
       "1                                                NaN        NaN        NaN   \n",
       "2                                                NaN        NLS        NaN   \n",
       "3                                               Name      Begin        End   \n",
       "4  Serine/threonine-protein phosphatase 2A 56 kDa...        548        565   \n",
       "\n",
       "           Unnamed: 5 Unnamed: 6         Unnamed: 7   Unnamed: 8  Unnamed: 9  \n",
       "0                 NaN        NaN                NaN          NaN         NaN  \n",
       "1                 NaN        NaN                NaN          NaN         NaN  \n",
       "2                 NaN        NaN                NaN          NaN         NaN  \n",
       "3            Sequence     Length           Evidence     ECO code         NaN  \n",
       "4  KRTVETEAVQMLKDIKKE         18  Sequence Analysis  ECO:0000255         NaN  "
      ]
     },
     "execution_count": 3,
     "metadata": {},
     "output_type": "execute_result"
    }
   ],
   "source": [
    "df.head(5)"
   ]
  },
  {
   "cell_type": "code",
   "execution_count": 4,
   "metadata": {},
   "outputs": [
    {
     "name": "stdout",
     "output_type": "stream",
     "text": [
      "     UniProt ID                                               Name Begin  End  \\\n",
      "0        Q14738  Serine/threonine-protein phosphatase 2A 56 kDa...   548  565   \n",
      "1        Q13362  Serine/threonine-protein phosphatase 2A 56 kDa...   416  422   \n",
      "2        Q9NRA8  Eukaryotic translation initiation factor 4E tr...   195  211   \n",
      "3        P42684                  Abelson tyrosine-protein kinase 2   658  660   \n",
      "4        Q4JIM5                  Abelson tyrosine-protein kinase 2   659  661   \n",
      "...         ...                                                ...   ...  ...   \n",
      "1359     Q96CK0                            Zinc finger protein 653   107  118   \n",
      "1360     Q96CK0                            Zinc finger protein 653   445  451   \n",
      "1361     Q24JY4        Zinc finger HIT domain-containing protein 1    38   47   \n",
      "1362     O43257        Zinc finger HIT domain-containing protein 1    38   47   \n",
      "1363     Q8R331        Zinc finger HIT domain-containing protein 1    38   47   \n",
      "\n",
      "                Sequence Length           Evidence     ECO code  \n",
      "0     KRTVETEAVQMLKDIKKE     18  Sequence Analysis  ECO:0000255  \n",
      "1                KLKEKLK      7  Sequence Analysis  ECO:0000255  \n",
      "2      RREFGDSKRVFGERRRN     17                NaN          NaN  \n",
      "3                    KKR      3  Sequence Analysis  ECO:0000255  \n",
      "4                    KKR      3  Sequence Analysis  ECO:0000255  \n",
      "...                  ...    ...                ...          ...  \n",
      "1359        PKKPKRKKRRRR     12  Sequence Analysis  ECO:0000255  \n",
      "1360             EPEKRRR      7  Sequence Analysis  ECO:0000255  \n",
      "1361          DNFQDDPHAG     10      By similarity  ECO:0000250  \n",
      "1362          DNFQDDPHAG     10                NaN          NaN  \n",
      "1363          DNFQDDPHAG     10      By similarity  ECO:0000250  \n",
      "\n",
      "[1364 rows x 8 columns]\n"
     ]
    }
   ],
   "source": [
    "# Clean the data\n",
    "df_cleaned = df.iloc[4:,:]\n",
    "df_cleaned = df_cleaned.reset_index(drop=True)\n",
    "df_cleaned = df_cleaned.iloc[:,1:-1]\n",
    "df_cleaned.columns = ['UniProt ID', 'Name', 'Begin', 'End', 'Sequence', 'Length', 'Evidence', 'ECO code']\n",
    "print(df_cleaned)"
   ]
  },
  {
   "cell_type": "code",
   "execution_count": 5,
   "metadata": {},
   "outputs": [
    {
     "data": {
      "text/plain": [
       "pandas.core.series.Series"
      ]
     },
     "execution_count": 5,
     "metadata": {},
     "output_type": "execute_result"
    }
   ],
   "source": [
    "NLS_sequence = df_cleaned['Sequence']\n",
    "NLS_sequence.str.len().idxmax()\n",
    "type(NLS_sequence)"
   ]
  },
  {
   "cell_type": "code",
   "execution_count": 6,
   "metadata": {},
   "outputs": [],
   "source": [
    "# Extract the sequence columns\n",
    "NLS_sequence = df_cleaned['Sequence']\n",
    "\n",
    "# # There is one entry of length 204. For alignment purpose, we delete it\n",
    "# max_ind = NLS_sequence.str.len().idxmax()\n",
    "# NLS_sequence_one_deleted = NLS_sequence.drop(max_ind)\n",
    "\n",
    "\n",
    "# Add '-' so that all sequences to have the same length\n",
    "max_length = max(len(s) for s in NLS_sequence)\n",
    "NLS_sequence_padded = [s +'-' * (max_length - len(s)) for s in NLS_sequence]"
   ]
  },
  {
   "cell_type": "code",
   "execution_count": 7,
   "metadata": {},
   "outputs": [],
   "source": [
    "# # Create 'aligned' NLS motifs\n",
    "with open('NLS_sequences_padded.txt', 'w+') as f:\n",
    "    for s in NLS_sequence_padded:\n",
    "        print(s, file = f)"
   ]
  }
 ],
 "metadata": {
  "kernelspec": {
   "display_name": "base",
   "language": "python",
   "name": "python3"
  },
  "language_info": {
   "codemirror_mode": {
    "name": "ipython",
    "version": 3
   },
   "file_extension": ".py",
   "mimetype": "text/x-python",
   "name": "python",
   "nbconvert_exporter": "python",
   "pygments_lexer": "ipython3",
   "version": "3.11.5"
  }
 },
 "nbformat": 4,
 "nbformat_minor": 2
}
