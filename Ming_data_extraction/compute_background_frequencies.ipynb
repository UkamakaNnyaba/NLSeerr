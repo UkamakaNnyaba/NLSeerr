{
 "cells": [
  {
   "cell_type": "code",
   "execution_count": 1,
   "metadata": {},
   "outputs": [],
   "source": [
    "import pandas as pd"
   ]
  },
  {
   "cell_type": "code",
   "execution_count": 2,
   "metadata": {},
   "outputs": [],
   "source": [
    "df = pd.read_csv('./data_NLS.csv')"
   ]
  },
  {
   "cell_type": "code",
   "execution_count": 3,
   "metadata": {},
   "outputs": [
    {
     "data": {
      "text/html": [
       "<div>\n",
       "<style scoped>\n",
       "    .dataframe tbody tr th:only-of-type {\n",
       "        vertical-align: middle;\n",
       "    }\n",
       "\n",
       "    .dataframe tbody tr th {\n",
       "        vertical-align: top;\n",
       "    }\n",
       "\n",
       "    .dataframe thead th {\n",
       "        text-align: right;\n",
       "    }\n",
       "</style>\n",
       "<table border=\"1\" class=\"dataframe\">\n",
       "  <thead>\n",
       "    <tr style=\"text-align: right;\">\n",
       "      <th></th>\n",
       "      <th>ID</th>\n",
       "      <th>Begin</th>\n",
       "      <th>End</th>\n",
       "      <th>Sequence_x</th>\n",
       "      <th>Length</th>\n",
       "      <th>Sequence_y</th>\n",
       "    </tr>\n",
       "  </thead>\n",
       "  <tbody>\n",
       "    <tr>\n",
       "      <th>0</th>\n",
       "      <td>Q14738</td>\n",
       "      <td>548</td>\n",
       "      <td>565</td>\n",
       "      <td>KRTVETEAVQMLKDIKKE</td>\n",
       "      <td>18</td>\n",
       "      <td>MPYKLKKEKEPPKVAKCTAKPSSSGKDGGGENTEEAQPQPQPQPQP...</td>\n",
       "    </tr>\n",
       "    <tr>\n",
       "      <th>1</th>\n",
       "      <td>Q13362</td>\n",
       "      <td>416</td>\n",
       "      <td>422</td>\n",
       "      <td>KLKEKLK</td>\n",
       "      <td>7</td>\n",
       "      <td>MLTCNKAGSRMVVDAANSNGPFQPVVLLHIRDVPPADQEKLFIQKL...</td>\n",
       "    </tr>\n",
       "    <tr>\n",
       "      <th>2</th>\n",
       "      <td>Q9NRA8</td>\n",
       "      <td>195</td>\n",
       "      <td>211</td>\n",
       "      <td>RREFGDSKRVFGERRRN</td>\n",
       "      <td>17</td>\n",
       "      <td>MDRRSMGETESGDAFLDLKKPPASKCPHRYTKEELLDIKELPHSKQ...</td>\n",
       "    </tr>\n",
       "    <tr>\n",
       "      <th>3</th>\n",
       "      <td>P42684</td>\n",
       "      <td>658</td>\n",
       "      <td>660</td>\n",
       "      <td>KKR</td>\n",
       "      <td>3</td>\n",
       "      <td>MGQQVGRVGEAPGLQQPQPRGIRGSSAARPSGRRRDPAGRTTETGF...</td>\n",
       "    </tr>\n",
       "    <tr>\n",
       "      <th>4</th>\n",
       "      <td>Q4JIM5</td>\n",
       "      <td>659</td>\n",
       "      <td>661</td>\n",
       "      <td>KKR</td>\n",
       "      <td>3</td>\n",
       "      <td>MGQQVGRVGEAPGLQQPQPRGIRGSSAARPSGRRRDPAGRTADAGF...</td>\n",
       "    </tr>\n",
       "    <tr>\n",
       "      <th>5</th>\n",
       "      <td>P55263</td>\n",
       "      <td>8</td>\n",
       "      <td>16</td>\n",
       "      <td>PKPKKLKVE</td>\n",
       "      <td>9</td>\n",
       "      <td>MAAAEEEPKPKKLKVEAPQALRENILFGMGNPLLDISAVVDKDFLD...</td>\n",
       "    </tr>\n",
       "    <tr>\n",
       "      <th>6</th>\n",
       "      <td>P42568</td>\n",
       "      <td>295</td>\n",
       "      <td>300</td>\n",
       "      <td>AKKRKK</td>\n",
       "      <td>6</td>\n",
       "      <td>MASSCAVQVKLELGHRAQVRKKPTVEGFTHDWMVFVRGPEHSNIQH...</td>\n",
       "    </tr>\n",
       "    <tr>\n",
       "      <th>7</th>\n",
       "      <td>Q09666</td>\n",
       "      <td>4971</td>\n",
       "      <td>4979</td>\n",
       "      <td>KIPKFKKPK</td>\n",
       "      <td>9</td>\n",
       "      <td>MEKEETTRELLLPNWQGSGSHGLTIAQRDDGVFVQEVTQNSPAART...</td>\n",
       "    </tr>\n",
       "    <tr>\n",
       "      <th>8</th>\n",
       "      <td>Q09666</td>\n",
       "      <td>5019</td>\n",
       "      <td>5027</td>\n",
       "      <td>KKSKFKMPK</td>\n",
       "      <td>9</td>\n",
       "      <td>MEKEETTRELLLPNWQGSGSHGLTIAQRDDGVFVQEVTQNSPAART...</td>\n",
       "    </tr>\n",
       "    <tr>\n",
       "      <th>9</th>\n",
       "      <td>Q09666</td>\n",
       "      <td>5034</td>\n",
       "      <td>5039</td>\n",
       "      <td>KIKAKK</td>\n",
       "      <td>6</td>\n",
       "      <td>MEKEETTRELLLPNWQGSGSHGLTIAQRDDGVFVQEVTQNSPAART...</td>\n",
       "    </tr>\n",
       "  </tbody>\n",
       "</table>\n",
       "</div>"
      ],
      "text/plain": [
       "       ID  Begin   End          Sequence_x  Length  \\\n",
       "0  Q14738    548   565  KRTVETEAVQMLKDIKKE      18   \n",
       "1  Q13362    416   422             KLKEKLK       7   \n",
       "2  Q9NRA8    195   211   RREFGDSKRVFGERRRN      17   \n",
       "3  P42684    658   660                 KKR       3   \n",
       "4  Q4JIM5    659   661                 KKR       3   \n",
       "5  P55263      8    16           PKPKKLKVE       9   \n",
       "6  P42568    295   300              AKKRKK       6   \n",
       "7  Q09666   4971  4979           KIPKFKKPK       9   \n",
       "8  Q09666   5019  5027           KKSKFKMPK       9   \n",
       "9  Q09666   5034  5039              KIKAKK       6   \n",
       "\n",
       "                                          Sequence_y  \n",
       "0  MPYKLKKEKEPPKVAKCTAKPSSSGKDGGGENTEEAQPQPQPQPQP...  \n",
       "1  MLTCNKAGSRMVVDAANSNGPFQPVVLLHIRDVPPADQEKLFIQKL...  \n",
       "2  MDRRSMGETESGDAFLDLKKPPASKCPHRYTKEELLDIKELPHSKQ...  \n",
       "3  MGQQVGRVGEAPGLQQPQPRGIRGSSAARPSGRRRDPAGRTTETGF...  \n",
       "4  MGQQVGRVGEAPGLQQPQPRGIRGSSAARPSGRRRDPAGRTADAGF...  \n",
       "5  MAAAEEEPKPKKLKVEAPQALRENILFGMGNPLLDISAVVDKDFLD...  \n",
       "6  MASSCAVQVKLELGHRAQVRKKPTVEGFTHDWMVFVRGPEHSNIQH...  \n",
       "7  MEKEETTRELLLPNWQGSGSHGLTIAQRDDGVFVQEVTQNSPAART...  \n",
       "8  MEKEETTRELLLPNWQGSGSHGLTIAQRDDGVFVQEVTQNSPAART...  \n",
       "9  MEKEETTRELLLPNWQGSGSHGLTIAQRDDGVFVQEVTQNSPAART...  "
      ]
     },
     "execution_count": 3,
     "metadata": {},
     "output_type": "execute_result"
    }
   ],
   "source": [
    "df.head(10)"
   ]
  },
  {
   "cell_type": "code",
   "execution_count": 20,
   "metadata": {},
   "outputs": [
    {
     "name": "stdout",
     "output_type": "stream",
     "text": [
      "{'M': 0.02211207580407797, 'P': 0.07190226876090751, 'Y': 0.02350057717452554, 'K': 0.07186287865110758, 'L': 0.08816710159912904, 'E': 0.07915770815211147, 'V': 0.05594599178278543, 'A': 0.0684939300934968, 'C': 0.01752750469125266, 'T': 0.04976502705334625, 'S': 0.09052722567797492, 'G': 0.06453522405860374, 'D': 0.052761957907291, 'N': 0.035706040363920846, 'Q': 0.05032743028771193, 'R': 0.05507175017917029, 'I': 0.03830797595014963, 'F': 0.031072231613845622, 'H': 0.02474574231209003, 'W': 0.008509357886501775}\n"
     ]
    }
   ],
   "source": [
    "all_sequences = ''.join(df['Sequence_y'])\n",
    "\n",
    "aa_counts = {}\n",
    "for aa in all_sequences:\n",
    "    if aa in ['X','Z']:\n",
    "        continue\n",
    "    if aa in aa_counts:\n",
    "        aa_counts[aa] += 1\n",
    "\n",
    "    else:\n",
    "        aa_counts[aa] = 1\n",
    "\n",
    "total_aa = sum(aa_counts.values())\n",
    "aa_frequencies = {aa: count/ total_aa for aa, count in aa_counts.items()}\n",
    "\n",
    "\n",
    "print(aa_frequencies)"
   ]
  },
  {
   "cell_type": "code",
   "execution_count": 24,
   "metadata": {},
   "outputs": [
    {
     "name": "stdout",
     "output_type": "stream",
     "text": [
      "ACDEFGHIKLMNPQRSTVWY\n"
     ]
    }
   ],
   "source": [
    "keys_list = sorted(list(aa_frequencies.keys()))\n",
    "print(''.join(keys_list))"
   ]
  }
 ],
 "metadata": {
  "kernelspec": {
   "display_name": "base",
   "language": "python",
   "name": "python3"
  },
  "language_info": {
   "codemirror_mode": {
    "name": "ipython",
    "version": 3
   },
   "file_extension": ".py",
   "mimetype": "text/x-python",
   "name": "python",
   "nbconvert_exporter": "python",
   "pygments_lexer": "ipython3",
   "version": "3.11.5"
  }
 },
 "nbformat": 4,
 "nbformat_minor": 2
}
