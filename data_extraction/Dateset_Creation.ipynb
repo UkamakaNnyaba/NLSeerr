{
 "cells": [
  {
   "cell_type": "code",
   "execution_count": 1,
   "metadata": {},
   "outputs": [],
   "source": [
    "import pandas as pd\n",
    "import re"
   ]
  },
  {
   "cell_type": "code",
   "execution_count": 4,
   "metadata": {},
   "outputs": [],
   "source": [
    "df = pd.read_csv('../yamagishi_kaneko_NLS_table.csv')"
   ]
  },
  {
   "cell_type": "code",
   "execution_count": 3,
   "metadata": {},
   "outputs": [],
   "source": [
    "# Keep only the second column\n",
    "# Note: Python uses 0-based indexing, so the second column is indexed as 1\n",
    "df_reduced = df.iloc[4:, [1]]\n",
    "\n",
    "df_reduced_reset = df_reduced.reset_index(drop=True)\n",
    "\n",
    "df_reduced_reset.columns = ['UniProt_ID']\n",
    "\n",
    "\n"
   ]
  },
  {
   "cell_type": "code",
   "execution_count": 4,
   "metadata": {},
   "outputs": [],
   "source": [
    "uniprot_ids  = df_reduced_reset['UniProt_ID'].tolist()"
   ]
  },
  {
   "cell_type": "code",
   "execution_count": 6,
   "metadata": {},
   "outputs": [
    {
     "data": {
      "text/plain": [
       "['Q14738', 'Q13362', 'Q9NRA8', 'P42684', 'Q4JIM5']"
      ]
     },
     "execution_count": 6,
     "metadata": {},
     "output_type": "execute_result"
    }
   ],
   "source": [
    "# Example list of UniProt IDs\n",
    "uniprot_ids[:5]"
   ]
  },
  {
   "cell_type": "code",
   "execution_count": 5,
   "metadata": {},
   "outputs": [],
   "source": [
    "# Check if there are duplicates\n",
    "def has_duplicates(lst):\n",
    "    return len(lst) != len(set(lst))\n",
    "\n",
    "# Check if the list has duplicates\n",
    "def check_duplicates(lst):\n",
    "    if has_duplicates(lst):\n",
    "        print(\"There are duplicates.\")\n",
    "    else:\n",
    "        print(\"No duplicates found.\")"
   ]
  },
  {
   "cell_type": "code",
   "execution_count": 6,
   "metadata": {},
   "outputs": [
    {
     "name": "stdout",
     "output_type": "stream",
     "text": [
      "There are duplicates.\n"
     ]
    }
   ],
   "source": [
    "check_duplicates(uniprot_ids)"
   ]
  },
  {
   "cell_type": "code",
   "execution_count": 7,
   "metadata": {},
   "outputs": [],
   "source": [
    "# Remove duplicates while preserving order\n",
    "seen = set()\n",
    "uniprot_ids_no_duplicate = []\n",
    "for item in uniprot_ids:\n",
    "    if item not in seen:\n",
    "        seen.add(item)\n",
    "        uniprot_ids_no_duplicate.append(item)"
   ]
  },
  {
   "cell_type": "code",
   "execution_count": 8,
   "metadata": {},
   "outputs": [
    {
     "name": "stdout",
     "output_type": "stream",
     "text": [
      "No duplicates found.\n"
     ]
    }
   ],
   "source": [
    "check_duplicates(uniprot_ids_no_duplicate)"
   ]
  },
  {
   "cell_type": "code",
   "execution_count": 9,
   "metadata": {},
   "outputs": [
    {
     "name": "stdout",
     "output_type": "stream",
     "text": [
      "1186\n",
      "1364\n"
     ]
    }
   ],
   "source": [
    "print(len(uniprot_ids_no_duplicate))\n",
    "print(len(uniprot_ids))"
   ]
  },
  {
   "cell_type": "code",
   "execution_count": 13,
   "metadata": {},
   "outputs": [],
   "source": [
    "# Save the modified DataFrame to a new CSV file\n",
    "with open('UniProt_ID.txt', 'w+') as f:\n",
    "    for id in uniprot_ids_no_duplicate:\n",
    "        print(id, file = f)"
   ]
  },
  {
   "cell_type": "code",
   "execution_count": 95,
   "metadata": {},
   "outputs": [],
   "source": [
    "import requests\n",
    "from requests.adapters import HTTPAdapter, Retry\n",
    "\n",
    "re_next_link = re.compile(r'<(.+)>; rel=\"next\"')\n",
    "retries = Retry(total=5, backoff_factor=0.25, status_forcelist=[500, 502, 503, 504])\n",
    "session = requests.Session()\n",
    "session.mount(\"https://\", HTTPAdapter(max_retries=retries))\n",
    "\n",
    "def get_next_link(headers):\n",
    "    if \"Link\" in headers:\n",
    "        match = re_next_link.match(headers[\"Link\"])\n",
    "        if match:\n",
    "            return match.group(1)\n",
    "\n",
    "def get_batch(batch_url):\n",
    "    while batch_url:\n",
    "        response = session.get(batch_url)\n",
    "        response.raise_for_status()\n",
    "        total = response.headers[\"x-total-results\"]\n",
    "        yield response, total\n",
    "        batch_url = get_next_link(response.headers)"
   ]
  },
  {
   "cell_type": "code",
   "execution_count": 4,
   "metadata": {},
   "outputs": [],
   "source": [
    "\n",
    "\n",
    "url = 'https://rest.uniprot.org/idmapping/uniprotkb/results/1b3c0cf5386fbc2de07460b673225119c324c735?format=fasta&size=500'\n",
    "\n",
    "with open('nuclear_protein_sequences.txt', 'w') as f:\n",
    "    for batch, total in get_batch(url):\n",
    "        for line in batch.text.splitlines():\n",
    "            print(line, file = f)  # Print each sequence to its own line\n",
    "\n",
    "# with open('Sequence.csv', 'w') as f:\n",
    "#     for batch, total in get_batch(url):\n",
    "#         fasta_data = batch.text\n",
    "#         sequences = re.split(r'^>.*\\n?', fasta_data, flags=re.MULTILINE)\n",
    "#         sequences = [seq for seq in sequences if seq.strip() != '']  # Remove empty entries\n",
    "#         for seq in sequences:\n",
    "#             f.write(seq)  # Print each sequence to its own line\n",
    "\n"
   ]
  },
  {
   "cell_type": "code",
   "execution_count": 11,
   "metadata": {},
   "outputs": [],
   "source": [
    "url = 'https://rest.uniprot.org/idmapping/uniprotkb/results/1b3c0cf5386fbc2de07460b673225119c324c735?fields=accession%2Clength&format=tsv&size=500'\n",
    "\n",
    "with open('nuclear_protein_lengths.tsv', 'w') as f:\n",
    "    for batch, total in get_batch(url):\n",
    "        for line in batch.text.splitlines():\n",
    "            print(line, file = f)  # Print each sequence to its own line\n",
    "\n"
   ]
  },
  {
   "cell_type": "code",
   "execution_count": 72,
   "metadata": {},
   "outputs": [],
   "source": [
    "df = pd.read_csv('./nuclear_protein_lengths.tsv', delimiter='\\t')"
   ]
  },
  {
   "cell_type": "code",
   "execution_count": 73,
   "metadata": {},
   "outputs": [],
   "source": [
    "df.drop('From',axis=1,inplace=True)\n",
    "df.rename(columns={'Entry':'ID'}, inplace=True)"
   ]
  },
  {
   "cell_type": "code",
   "execution_count": 77,
   "metadata": {},
   "outputs": [],
   "source": [
    "df = df[~(df['Length'] == 'Length')]"
   ]
  },
  {
   "cell_type": "code",
   "execution_count": 78,
   "metadata": {},
   "outputs": [
    {
     "data": {
      "text/plain": [
       "'602'"
      ]
     },
     "execution_count": 78,
     "metadata": {},
     "output_type": "execute_result"
    }
   ],
   "source": [
    "df['Length'].values.any()"
   ]
  },
  {
   "cell_type": "code",
   "execution_count": 79,
   "metadata": {},
   "outputs": [
    {
     "data": {
      "text/html": [
       "<div>\n",
       "<style scoped>\n",
       "    .dataframe tbody tr th:only-of-type {\n",
       "        vertical-align: middle;\n",
       "    }\n",
       "\n",
       "    .dataframe tbody tr th {\n",
       "        vertical-align: top;\n",
       "    }\n",
       "\n",
       "    .dataframe thead th {\n",
       "        text-align: right;\n",
       "    }\n",
       "</style>\n",
       "<table border=\"1\" class=\"dataframe\">\n",
       "  <thead>\n",
       "    <tr style=\"text-align: right;\">\n",
       "      <th></th>\n",
       "      <th>ID</th>\n",
       "      <th>Length</th>\n",
       "    </tr>\n",
       "  </thead>\n",
       "  <tbody>\n",
       "  </tbody>\n",
       "</table>\n",
       "</div>"
      ],
      "text/plain": [
       "Empty DataFrame\n",
       "Columns: [ID, Length]\n",
       "Index: []"
      ]
     },
     "execution_count": 79,
     "metadata": {},
     "output_type": "execute_result"
    }
   ],
   "source": [
    "df[df.isnull().any(axis=1)]"
   ]
  },
  {
   "cell_type": "code",
   "execution_count": 80,
   "metadata": {},
   "outputs": [
    {
     "data": {
      "text/plain": [
       "ID        Q8IX01\n",
       "Length      1082\n",
       "Name: 1002, dtype: object"
      ]
     },
     "execution_count": 80,
     "metadata": {},
     "output_type": "execute_result"
    }
   ],
   "source": [
    "df.iloc[1000]"
   ]
  },
  {
   "cell_type": "code",
   "execution_count": 81,
   "metadata": {},
   "outputs": [
    {
     "name": "stdout",
     "output_type": "stream",
     "text": [
      "The lengths are from 80 to 5890\n"
     ]
    }
   ],
   "source": [
    "df['Length'] = pd.to_numeric(df['Length'], errors='coerce')\n",
    "min_length, max_length = df['Length'].min(), df['Length'].max()\n",
    "print(f'The lengths are from {min_length} to {max_length}')"
   ]
  },
  {
   "cell_type": "code",
   "execution_count": 6,
   "metadata": {},
   "outputs": [
    {
     "data": {
      "image/png": "[encoded data removed]",
      "text/plain": [
       "<Figure size 640x480 with 1 Axes>"
      ]
     },
     "metadata": {},
     "output_type": "display_data"
    }
   ],
   "source": [
    "import matplotlib.pyplot as plt\n",
    "\n",
    "\n",
    "df['Length'].plot(kind='hist', alpha=0.7)\n",
    "plt.xlabel('Protein Length')\n",
    "plt.ylabel('Frequency')\n",
    "plt.title('Histogram of Protein Lengths')\n",
    "plt.show()"
   ]
  },
  {
   "cell_type": "code",
   "execution_count": 12,
   "metadata": {},
   "outputs": [],
   "source": [
    "from sklearn.cluster import KMeans"
   ]
  },
  {
   "cell_type": "code",
   "execution_count": 82,
   "metadata": {},
   "outputs": [
    {
     "name": "stderr",
     "output_type": "stream",
     "text": [
      "/Users/mingzhang/anaconda3/lib/python3.11/site-packages/sklearn/cluster/_kmeans.py:1412: FutureWarning: The default value of `n_init` will change from 10 to 'auto' in 1.4. Set the value of `n_init` explicitly to suppress the warning\n",
      "  super()._check_params_vs_input(X, default_n_init=10)\n"
     ]
    },
    {
     "name": "stdout",
     "output_type": "stream",
     "text": [
      "          ID  Length  Cluster\n",
      "0     Q14738     602        6\n",
      "1     Q13362     524        5\n",
      "2     Q9NRA8     985        8\n",
      "3     P42684    1182        4\n",
      "4     Q4JIM5    1182        4\n",
      "...      ...     ...      ...\n",
      "1184  Q5SXI5     585        6\n",
      "1185  Q96CK0     615        6\n",
      "1186  Q24JY4     154        7\n",
      "1187  O43257     154        7\n",
      "1188  Q8R331     154        7\n",
      "\n",
      "[1187 rows x 3 columns]\n"
     ]
    }
   ],
   "source": [
    "X = df['Length'].values.reshape(-1,1)\n",
    "\n",
    "kmeans = KMeans(n_clusters=10, random_state=345).fit(X)\n",
    "\n",
    "df['Cluster'] = kmeans.labels_\n",
    "\n",
    "print(df)"
   ]
  },
  {
   "cell_type": "code",
   "execution_count": 2,
   "metadata": {},
   "outputs": [
    {
     "ename": "NameError",
     "evalue": "name 'df' is not defined",
     "output_type": "error",
     "traceback": [
      "\u001b[0;31m---------------------------------------------------------------------------\u001b[0m",
      "\u001b[0;31mNameError\u001b[0m                                 Traceback (most recent call last)",
      "Cell \u001b[0;32mIn[2], line 1\u001b[0m\n\u001b[0;32m----> 1\u001b[0m df[df[\u001b[38;5;124m'\u001b[39m\u001b[38;5;124mCluster\u001b[39m\u001b[38;5;124m'\u001b[39m]\u001b[38;5;241m==\u001b[39m\u001b[38;5;241m7\u001b[39m][\u001b[38;5;124m'\u001b[39m\u001b[38;5;124mLength\u001b[39m\u001b[38;5;124m'\u001b[39m]\n",
      "\u001b[0;31mNameError\u001b[0m: name 'df' is not defined"
     ]
    }
   ],
   "source": [
    "df[df['Cluster']==7]['Length']"
   ]
  },
  {
   "cell_type": "code",
   "execution_count": 91,
   "metadata": {},
   "outputs": [],
   "source": [
    "import os\n",
    "\n",
    "\n",
    "subfolder = 'nuclear_proteins_ids'\n",
    "\n",
    "if not os.path.exists(subfolder):\n",
    "    os.makedirs(subfolder)\n",
    "    \n",
    "    \n",
    "for i in range(10):\n",
    "    file_path = os.path.join(subfolder, f'nuclear_protein_ids_{i}.txt')\n",
    "    with open(file_path, 'w') as f:\n",
    "        ids = df[df['Cluster']==i]['ID']\n",
    "\n",
    "        for id in ids:\n",
    "            print(id, file=f)"
   ]
  },
  {
   "cell_type": "code",
   "execution_count": 96,
   "metadata": {},
   "outputs": [],
   "source": [
    "url_0 = 'https://rest.uniprot.org/idmapping/uniprotkb/results/ba823190bd392a76c8fc654524603a7559e71bba?format=fasta&size=500'\n",
    "url_1 = 'https://rest.uniprot.org/idmapping/uniprotkb/results/daf8bdaffdb7494131ded004ab52093974537f0b?format=fasta&size=500'\n",
    "url_2 = 'https://rest.uniprot.org/idmapping/uniprotkb/results/e0f2b7b9399e3d5e1d2324960c15bb9c45e575c2?format=fasta&size=500'\n",
    "url_3 = 'https://rest.uniprot.org/idmapping/uniprotkb/results/0cfc22d1f9c4ec827e96d117549b2128f938ac99?format=fasta&size=500'\n",
    "url_4 = 'https://rest.uniprot.org/idmapping/uniprotkb/results/7e8effb2ba387d9c4d92391d562027fac91e780b?format=fasta&size=500'\n",
    "url_5 = 'https://rest.uniprot.org/idmapping/uniprotkb/results/78ff81ebfe203f4bf82f22a48e26c82968e5e4de?format=fasta&size=500'\n",
    "url_6 = 'https://rest.uniprot.org/idmapping/uniprotkb/results/93553c412b6a1e925a673159e1ad10fd3b87b8db?format=fasta&size=500'\n",
    "url_7 = 'https://rest.uniprot.org/idmapping/uniprotkb/results/d5969819d88593187f87ee3c410df0fad55d0bea?format=fasta&size=500'\n",
    "url_8 = 'https://rest.uniprot.org/idmapping/uniprotkb/results/6297249f1561da0c81f0c3c74f3f3e217671aef2?format=fasta&size=500'\n",
    "url_9 = 'https://rest.uniprot.org/idmapping/uniprotkb/results/051aea3e8cd206d5cd0de0ba649b47aaa246b347?format=fasta&size=500'\n",
    "\n",
    "url_list = [url_0, url_1, url_2, url_3, url_4, url_5, url_6, url_7, url_8, url_9]\n",
    "\n",
    "subfolder = 'nuclear_proteins_sequences'\n",
    "\n",
    "if not os.path.exists(subfolder):\n",
    "    os.makedirs(subfolder)\n",
    "    \n",
    "    \n",
    "for i in range(10):\n",
    "    file_path = os.path.join(subfolder, f'nuclear_protein_sequences_{i}.txt')\n",
    "\n",
    "    with open(file_path, 'w') as f:\n",
    "        for batch, total in get_batch(url_list[i]):\n",
    "            for line in batch.text.splitlines():\n",
    "                print(line, file = f)  # Print each sequence to its own line\n",
    "\n"
   ]
  },
  {
   "cell_type": "markdown",
   "metadata": {},
   "source": [
    "# Testing"
   ]
  },
  {
   "cell_type": "code",
   "execution_count": 46,
   "metadata": {},
   "outputs": [
    {
     "data": {
      "text/plain": [
       "'602'"
      ]
     },
     "execution_count": 46,
     "metadata": {},
     "output_type": "execute_result"
    }
   ],
   "source": [
    "df['Length'].values.any()"
   ]
  },
  {
   "cell_type": "code",
   "execution_count": 56,
   "metadata": {},
   "outputs": [
    {
     "data": {
      "text/html": [
       "<div>\n",
       "<style scoped>\n",
       "    .dataframe tbody tr th:only-of-type {\n",
       "        vertical-align: middle;\n",
       "    }\n",
       "\n",
       "    .dataframe tbody tr th {\n",
       "        vertical-align: top;\n",
       "    }\n",
       "\n",
       "    .dataframe thead th {\n",
       "        text-align: right;\n",
       "    }\n",
       "</style>\n",
       "<table border=\"1\" class=\"dataframe\">\n",
       "  <thead>\n",
       "    <tr style=\"text-align: right;\">\n",
       "      <th></th>\n",
       "      <th>ID</th>\n",
       "      <th>Length</th>\n",
       "    </tr>\n",
       "  </thead>\n",
       "  <tbody>\n",
       "    <tr>\n",
       "      <th>500</th>\n",
       "      <td>Entry</td>\n",
       "      <td>NaN</td>\n",
       "    </tr>\n",
       "    <tr>\n",
       "      <th>1001</th>\n",
       "      <td>Entry</td>\n",
       "      <td>NaN</td>\n",
       "    </tr>\n",
       "  </tbody>\n",
       "</table>\n",
       "</div>"
      ],
      "text/plain": [
       "         ID  Length\n",
       "500   Entry     NaN\n",
       "1001  Entry     NaN"
      ]
     },
     "execution_count": 56,
     "metadata": {},
     "output_type": "execute_result"
    }
   ],
   "source": [
    "df[df.isnull().any(axis=1)]"
   ]
  },
  {
   "cell_type": "code",
   "execution_count": 48,
   "metadata": {},
   "outputs": [
    {
     "data": {
      "text/plain": [
       "ID        P25799\n",
       "Length       971\n",
       "Name: 602, dtype: object"
      ]
     },
     "execution_count": 48,
     "metadata": {},
     "output_type": "execute_result"
    }
   ],
   "source": [
    "df.iloc[602]"
   ]
  },
  {
   "cell_type": "code",
   "execution_count": 24,
   "metadata": {},
   "outputs": [
    {
     "data": {
      "text/html": [
       "<div>\n",
       "<style scoped>\n",
       "    .dataframe tbody tr th:only-of-type {\n",
       "        vertical-align: middle;\n",
       "    }\n",
       "\n",
       "    .dataframe tbody tr th {\n",
       "        vertical-align: top;\n",
       "    }\n",
       "\n",
       "    .dataframe thead th {\n",
       "        text-align: right;\n",
       "    }\n",
       "</style>\n",
       "<table border=\"1\" class=\"dataframe\">\n",
       "  <thead>\n",
       "    <tr style=\"text-align: right;\">\n",
       "      <th></th>\n",
       "      <th>ID</th>\n",
       "      <th>Length</th>\n",
       "    </tr>\n",
       "  </thead>\n",
       "  <tbody>\n",
       "    <tr>\n",
       "      <th>546</th>\n",
       "      <td>Q32KU9</td>\n",
       "      <td>82.0</td>\n",
       "    </tr>\n",
       "    <tr>\n",
       "      <th>547</th>\n",
       "      <td>Q8IVN3</td>\n",
       "      <td>82.0</td>\n",
       "    </tr>\n",
       "    <tr>\n",
       "      <th>548</th>\n",
       "      <td>Q99JI1</td>\n",
       "      <td>82.0</td>\n",
       "    </tr>\n",
       "    <tr>\n",
       "      <th>549</th>\n",
       "      <td>Q80XX4</td>\n",
       "      <td>82.0</td>\n",
       "    </tr>\n",
       "    <tr>\n",
       "      <th>650</th>\n",
       "      <td>O60356</td>\n",
       "      <td>82.0</td>\n",
       "    </tr>\n",
       "    <tr>\n",
       "      <th>651</th>\n",
       "      <td>O54842</td>\n",
       "      <td>80.0</td>\n",
       "    </tr>\n",
       "    <tr>\n",
       "      <th>652</th>\n",
       "      <td>Q9WTK0</td>\n",
       "      <td>80.0</td>\n",
       "    </tr>\n",
       "    <tr>\n",
       "      <th>988</th>\n",
       "      <td>Q9NS26</td>\n",
       "      <td>97.0</td>\n",
       "    </tr>\n",
       "    <tr>\n",
       "      <th>990</th>\n",
       "      <td>Q9NY87</td>\n",
       "      <td>97.0</td>\n",
       "    </tr>\n",
       "    <tr>\n",
       "      <th>991</th>\n",
       "      <td>Q9BXN6</td>\n",
       "      <td>97.0</td>\n",
       "    </tr>\n",
       "    <tr>\n",
       "      <th>992</th>\n",
       "      <td>Q9NY87</td>\n",
       "      <td>97.0</td>\n",
       "    </tr>\n",
       "  </tbody>\n",
       "</table>\n",
       "</div>"
      ],
      "text/plain": [
       "         ID  Length\n",
       "546  Q32KU9    82.0\n",
       "547  Q8IVN3    82.0\n",
       "548  Q99JI1    82.0\n",
       "549  Q80XX4    82.0\n",
       "650  O60356    82.0\n",
       "651  O54842    80.0\n",
       "652  Q9WTK0    80.0\n",
       "988  Q9NS26    97.0\n",
       "990  Q9NY87    97.0\n",
       "991  Q9BXN6    97.0\n",
       "992  Q9NY87    97.0"
      ]
     },
     "execution_count": 24,
     "metadata": {},
     "output_type": "execute_result"
    }
   ],
   "source": [
    "df[df['Length']<100]"
   ]
  }
 ],
 "metadata": {
  "kernelspec": {
   "display_name": "base",
   "language": "python",
   "name": "python3"
  },
  "language_info": {
   "codemirror_mode": {
    "name": "ipython",
    "version": 3
   },
   "file_extension": ".py",
   "mimetype": "text/x-python",
   "name": "python",
   "nbconvert_exporter": "python",
   "pygments_lexer": "ipython3",
   "version": "3.11.5"
  }
 },
 "nbformat": 4,
 "nbformat_minor": 2
}
