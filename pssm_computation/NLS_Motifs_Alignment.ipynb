{
 "cells": [
  {
   "cell_type": "code",
   "execution_count": 1,
   "metadata": {},
   "outputs": [],
   "source": [
    "import pandas as pd"
   ]
  },
  {
   "cell_type": "code",
   "execution_count": 2,
   "metadata": {},
   "outputs": [
    {
     "name": "stdout",
     "output_type": "stream",
     "text": [
      "                                          Unnamed: 0  Unnamed: 1  \\\n",
      "0  Table S1. Information on NLSs identified in Un...         NaN   \n",
      "1                                                NaN         NaN   \n",
      "2                                                No.     Protein   \n",
      "3                                                NaN  UniProt ID   \n",
      "4                                                  1      Q14738   \n",
      "\n",
      "                                          Unnamed: 2 Unnamed: 3 Unnamed: 4  \\\n",
      "0                                                NaN        NaN        NaN   \n",
      "1                                                NaN        NaN        NaN   \n",
      "2                                                NaN        NLS        NaN   \n",
      "3                                               Name      Begin        End   \n",
      "4  Serine/threonine-protein phosphatase 2A 56 kDa...        548        565   \n",
      "\n",
      "           Unnamed: 5 Unnamed: 6         Unnamed: 7   Unnamed: 8  Unnamed: 9  \n",
      "0                 NaN        NaN                NaN          NaN         NaN  \n",
      "1                 NaN        NaN                NaN          NaN         NaN  \n",
      "2                 NaN        NaN                NaN          NaN         NaN  \n",
      "3            Sequence     Length           Evidence     ECO code         NaN  \n",
      "4  KRTVETEAVQMLKDIKKE         18  Sequence Analysis  ECO:0000255         NaN  \n"
     ]
    }
   ],
   "source": [
    "df = pd.read_csv('../data/yamagishi_kaneko_NLS_table.csv')\n",
    "print(df.head(5))"
   ]
  },
  {
   "cell_type": "code",
   "execution_count": 3,
   "metadata": {},
   "outputs": [
    {
     "name": "stdout",
     "output_type": "stream",
     "text": [
      "  UniProt ID                                               Name Begin  End  \\\n",
      "0     Q14738  Serine/threonine-protein phosphatase 2A 56 kDa...   548  565   \n",
      "1     Q13362  Serine/threonine-protein phosphatase 2A 56 kDa...   416  422   \n",
      "2     Q9NRA8  Eukaryotic translation initiation factor 4E tr...   195  211   \n",
      "3     P42684                  Abelson tyrosine-protein kinase 2   658  660   \n",
      "4     Q4JIM5                  Abelson tyrosine-protein kinase 2   659  661   \n",
      "\n",
      "             Sequence Length           Evidence     ECO code  \n",
      "0  KRTVETEAVQMLKDIKKE     18  Sequence Analysis  ECO:0000255  \n",
      "1             KLKEKLK      7  Sequence Analysis  ECO:0000255  \n",
      "2   RREFGDSKRVFGERRRN     17                NaN          NaN  \n",
      "3                 KKR      3  Sequence Analysis  ECO:0000255  \n",
      "4                 KKR      3  Sequence Analysis  ECO:0000255  \n"
     ]
    }
   ],
   "source": [
    "# Clean the data\n",
    "df_cleaned = df.iloc[4:,:]\n",
    "df_cleaned = df_cleaned.reset_index(drop=True)\n",
    "df_cleaned = df_cleaned.iloc[:,1:-1]\n",
    "df_cleaned.columns = ['UniProt ID', 'Name', 'Begin', 'End', 'Sequence', 'Length', 'Evidence', 'ECO code']\n",
    "print(df_cleaned.head())"
   ]
  },
  {
   "cell_type": "code",
   "execution_count": 5,
   "metadata": {},
   "outputs": [],
   "source": [
    "# Extract the sequence columns\n",
    "NLS_sequence = df_cleaned['Sequence']\n",
    "\n",
    "\n",
    "# pad all sequences by add '-' at the end so that all of them have the same length\n",
    "max_length = max(len(s) for s in NLS_sequence)\n",
    "NLS_sequence_padded = [s +'-' * (max_length - len(s)) for s in NLS_sequence]"
   ]
  },
  {
   "cell_type": "code",
   "execution_count": 6,
   "metadata": {},
   "outputs": [],
   "source": [
    "# Create 'aligned' NLS motifs\n",
    "with open('../data/NLS_sequences_padded.txt', 'w+') as f:\n",
    "    for s in NLS_sequence_padded:\n",
    "        print(s, file = f)"
   ]
  }
 ],
 "metadata": {
  "kernelspec": {
   "display_name": "base",
   "language": "python",
   "name": "python3"
  },
  "language_info": {
   "codemirror_mode": {
    "name": "ipython",
    "version": 3
   },
   "file_extension": ".py",
   "mimetype": "text/x-python",
   "name": "python",
   "nbconvert_exporter": "python",
   "pygments_lexer": "ipython3",
   "version": "3.11.5"
  }
 },
 "nbformat": 4,
 "nbformat_minor": 2
}
